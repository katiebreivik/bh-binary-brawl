{
 "cells": [
  {
   "cell_type": "code",
   "execution_count": 1,
   "id": "4bde3d9b-6611-4c63-898b-61c2f5873ad6",
   "metadata": {},
   "outputs": [],
   "source": [
    "import pandas as pd\n",
    "import numpy as np\n",
    "import matplotlib.pyplot as plt\n",
    "from astropy.coordinates import SkyCoord\n",
    "import astropy.units as u\n",
    "import astropy.coordinates as coord\n",
    "from matplotlib import colors\n",
    "from scipy.interpolate import interp1d\n",
    "import tqdm\n",
    "from schwimmbad import MultiPool\n",
    "\n",
    "import Gaia_helpers as gh\n",
    "import orbit_helpers as oh\n",
    "import phot_helpers as ph"
   ]
  },
  {
   "cell_type": "code",
   "execution_count": 2,
   "id": "36b52683-50b9-491e-acc6-c0220ed6ed6b",
   "metadata": {},
   "outputs": [],
   "source": [
    "fname = '/Users/kbreivik/Downloads/BH_stars_dynamical_EVOLVED_loose_formtimecut.gz'\n",
    "#fname = 'BH_stars_loose_EVOLVED.gz'\n",
    "#fname = 'BH_stars_loose_modmetal_EVOLVED.gz'"
   ]
  },
  {
   "cell_type": "code",
   "execution_count": 3,
   "id": "6f604a7d-a1a4-4d71-8b4e-5d48b063a630",
   "metadata": {},
   "outputs": [],
   "source": [
    "dat = pd.read_pickle(fname)"
   ]
  },
  {
   "cell_type": "code",
   "execution_count": 4,
   "id": "02cc2d48-7f0d-46e3-8dc4-b497f4887e84",
   "metadata": {},
   "outputs": [
    {
     "data": {
      "text/plain": [
       "Index(['#simname', 'M_sc[Msun]', 'D_frac', 'Z', 'dense/loose[0/1]', 'i1', 'i2',\n",
       "       'M1[Msun]', 'M2[Msun]', 'K1', 'K2', 'M1form[Msun]', 'M2form[Msun]',\n",
       "       'K1form', 'K2form', 'Tform(0=primordial)[Myr]',\n",
       "       'Tesc(100=retained)[Myr]', 'Vesc(0=retained)[km/s]', 'e', 'P[days]',\n",
       "       'a[AU]', 'sigmamaxw[km/s]', 'sntype[0=delayed/1=rapid]', 'alphaCE', 'x',\n",
       "       'y', 'z', 'kern_len', 'formation_time', 'met_particle', 'B_TPHYF[MYRS]',\n",
       "       'B_KSTAR1', 'B_KSTAR2', 'B_M1[Msun]', 'B_M2[Msun]', 'B_logL1[Lsun]',\n",
       "       'B_logL2[Lsun]', 'B_logR1[Rsun]', 'B_logR2[Rsun]', 'B_logT1[K]',\n",
       "       'B_logT2[K]', 'B_ECC', 'B_PORB[Days]', 'B_SEP[Rsun]'],\n",
       "      dtype='object')"
      ]
     },
     "execution_count": 4,
     "metadata": {},
     "output_type": "execute_result"
    }
   ],
   "source": [
    "dat.columns"
   ]
  },
  {
   "cell_type": "markdown",
   "id": "7f453457-d9a7-4f18-867d-da0efd4992ba",
   "metadata": {},
   "source": [
    "#### Rename some columns so they work with my scripts"
   ]
  },
  {
   "cell_type": "code",
   "execution_count": 5,
   "id": "0b81754b-cced-47bd-8458-6b2796c129f3",
   "metadata": {},
   "outputs": [],
   "source": [
    "dat = dat.rename(columns={\"B_M1[Msun]\": \"mass_1\", \"B_M2[Msun]\": \"mass_2\", \n",
    "                          \"B_SEP[Rsun]\": \"sep\", \"B_PORB[Days]\": \"porb\", \"Z\": \"metallicity\",\n",
    "                          \"B_ECC\": \"ecc\", \"x\": \"X\", \"y\": \"Y\", \"z\": \"Z\"})"
   ]
  },
  {
   "cell_type": "code",
   "execution_count": 6,
   "id": "bc5d077e-78ab-4463-963e-80d531828c98",
   "metadata": {},
   "outputs": [],
   "source": [
    "dat['FeH'] = np.log10(dat.metallicity.values/0.02)\n",
    "dat['rad_1'] = 10**dat['B_logR1[Rsun]'].values\n",
    "dat['rad_2'] = 10**dat['B_logR2[Rsun]'].values\n",
    "dat['lum_1'] = 10**dat['B_logL1[Lsun]'].values\n",
    "dat['lum_2'] = 10**dat['B_logL2[Lsun]'].values\n",
    "dat['teff_1'] = 10**dat['B_logT1[K]'].values\n",
    "dat['teff_2'] = 10**dat['B_logT2[K]'].values\n",
    "c = SkyCoord(x=np.array(dat.X) * u.kpc,\n",
    "                 y=np.array(dat.Y) * u.kpc, \n",
    "                 z=np.array(dat.Z) * u.kpc,\n",
    "                 frame=coord.Galactocentric,\n",
    "                 galcen_distance = 8.5 * u.kpc,\n",
    "                 z_sun = 36.0e-3 * u.kpc)\n",
    "dat['dist'] = c.transform_to(coord.ICRS).distance.value"
   ]
  },
  {
   "cell_type": "markdown",
   "id": "25130dbc-46fb-4876-b959-096c38194fa0",
   "metadata": {},
   "source": [
    "#### Filter out things that aren't around at present based on Poojan's suggestion"
   ]
  },
  {
   "cell_type": "code",
   "execution_count": 7,
   "id": "4c8811d8-c3d4-4f26-a700-3b3df82e4cb1",
   "metadata": {},
   "outputs": [],
   "source": [
    "dat = dat.loc[dat[\"B_TPHYF[MYRS]\"] > 0]"
   ]
  },
  {
   "cell_type": "markdown",
   "id": "15213a43-5521-491a-95de-47bbc1905cd8",
   "metadata": {},
   "source": [
    "#### Select on BH + bright companions; could make non-degenerate by changing 13 to 10"
   ]
  },
  {
   "cell_type": "code",
   "execution_count": 8,
   "id": "4c87038f-e986-466e-999f-fc23b12c47b8",
   "metadata": {},
   "outputs": [],
   "source": [
    "dat = dat.loc[((dat.B_KSTAR1 == 14) & (dat.B_KSTAR2 < 13)) | ((dat.B_KSTAR2 == 14) & (dat.B_KSTAR1 < 13))]"
   ]
  },
  {
   "cell_type": "markdown",
   "id": "df772f51-28b4-4c3e-9e2b-5071ccc8e4bd",
   "metadata": {},
   "source": [
    "#### Filter out unbound systems and those with orbital periods longer than 10 years"
   ]
  },
  {
   "cell_type": "code",
   "execution_count": 9,
   "id": "f2f1940c-6a05-4480-bba2-d870ea89c74d",
   "metadata": {},
   "outputs": [],
   "source": [
    "dat = dat.loc[(dat.ecc >= 0) & (dat.porb < 10 * 365.25)]"
   ]
  },
  {
   "cell_type": "markdown",
   "id": "c6d4c455-8dfd-41c9-9b88-eedaa5e4b31e",
   "metadata": {},
   "source": [
    "#### Load the bolometric correction grid from MIST"
   ]
  },
  {
   "cell_type": "code",
   "execution_count": 10,
   "id": "61014c39-4807-46d6-9654-6d27ff4e2406",
   "metadata": {},
   "outputs": [
    {
     "name": "stderr",
     "output_type": "stream",
     "text": [
      "Holoviews not imported. Some visualizations will not be available.\n",
      "PyMultiNest not imported.  MultiNest fits will not work.\n"
     ]
    }
   ],
   "source": [
    "from isochrones.mist.bc import MISTBolometricCorrectionGrid\n",
    "\n",
    "bc_grid = MISTBolometricCorrectionGrid(['J', 'H', 'K', 'G', 'BP', 'RP'])"
   ]
  },
  {
   "cell_type": "code",
   "execution_count": 11,
   "id": "6c9ae120-c7f2-4cc4-a234-1558ffa6c20e",
   "metadata": {},
   "outputs": [
    {
     "name": "stderr",
     "output_type": "stream",
     "text": [
      "100%|███████████████████████████████████████████| 72/72 [03:35<00:00,  2.99s/it]\n"
     ]
    },
    {
     "name": "stdout",
     "output_type": "stream",
     "text": [
      "pop size before extinction cut: 78294\n"
     ]
    }
   ],
   "source": [
    "dat = ph.get_phot(sim_set=dat, sys_type=2, bc_grid=bc_grid)"
   ]
  },
  {
   "cell_type": "markdown",
   "id": "3ad9ba7a-423b-47f7-b86f-2c5635e74f65",
   "metadata": {},
   "source": [
    "#### Filter on Gaia G < 20"
   ]
  },
  {
   "cell_type": "code",
   "execution_count": null,
   "id": "3a4836d6-d35e-4ec9-8c8c-59aacc81e3fc",
   "metadata": {},
   "outputs": [],
   "source": [
    "dat = dat.loc[dat.G_app < 20]\n",
    "print(len(dat))"
   ]
  },
  {
   "cell_type": "markdown",
   "id": "78fcecb0-5d6a-45c8-98b2-94306f9e6f5d",
   "metadata": {},
   "source": [
    "#### Give random orientations to each binary so that we can get the projected size of the star's orbit"
   ]
  },
  {
   "cell_type": "code",
   "execution_count": null,
   "id": "c3ad7ae6-943f-439d-867b-22e1e96f88ee",
   "metadata": {},
   "outputs": [],
   "source": [
    "dat['inc'] = np.arccos(np.random.uniform(0,1,len(dat)))\n",
    "dat['omega'] = np.random.uniform(0, 2 * np.pi, len(dat))\n",
    "dat['OMEGA'] = np.random.uniform(0, 2 * np.pi, len(dat))\n"
   ]
  },
  {
   "cell_type": "code",
   "execution_count": null,
   "id": "62d27cc3-2382-468c-8c56-d3fd242f7e54",
   "metadata": {},
   "outputs": [],
   "source": [
    "dat = oh.get_projected_orbit(dat, bintype='co')"
   ]
  },
  {
   "cell_type": "code",
   "execution_count": null,
   "id": "020a728d-5214-4ea8-a4cb-67c4df53b6b0",
   "metadata": {},
   "outputs": [],
   "source": [
    "dat['sigma_al'] = oh.get_sigma_AL(dat.G_app)"
   ]
  },
  {
   "cell_type": "code",
   "execution_count": null,
   "id": "ebdc0bcb-718d-4c92-8eed-ddb092ec6ce2",
   "metadata": {},
   "outputs": [],
   "source": [
    "dat.sep_phot/dat.dist"
   ]
  },
  {
   "cell_type": "markdown",
   "id": "64b5a4f8-ab95-40a9-bcbc-400e71878603",
   "metadata": {},
   "source": [
    "#### Get Gaia RUWE and filter on RUWE (rho) > 1"
   ]
  },
  {
   "cell_type": "code",
   "execution_count": null,
   "id": "eec02ba7-a8f6-46be-b6f0-14fc88ecbc4d",
   "metadata": {},
   "outputs": [],
   "source": [
    "dat = oh.get_delta_theta(dat)\n",
    "dat = oh.get_rho(dat)\n",
    "print(len(dat.loc[dat.rho > 1]))\n",
    "print(len(dat.loc[dat.sep_phot/dat.dist > 1 * dat.sigma_al]))"
   ]
  },
  {
   "cell_type": "markdown",
   "id": "a8864e55-d231-4394-a690-23c552935b12",
   "metadata": {},
   "source": [
    "### Whelp -- I bungled this one in the earlier versions. The rho parameter is the RUWE and shouldn't be used for individual detections :-("
   ]
  },
  {
   "cell_type": "code",
   "execution_count": null,
   "id": "a0e47865-c544-440c-b37c-59fff8e3da95",
   "metadata": {},
   "outputs": [],
   "source": [
    "print(f\"The size of the pessimistic BH binary population detectable by Gaia is: {len(dat.loc[dat.sep_phot/dat.dist > 3 * dat.sigma_al])}\")\n",
    "print(f\"The size of the optimistic BH binary population detectable by Gaia is: {len(dat.loc[dat.sep_phot/dat.dist > dat.sigma_al])}\")"
   ]
  },
  {
   "cell_type": "code",
   "execution_count": null,
   "id": "b13fef5f-d495-4b31-805c-1d0d27b7e1d3",
   "metadata": {},
   "outputs": [],
   "source": [
    "dat_opt = dat.loc[dat.sep_phot/dat.dist > 1 * dat.sigma_al]\n",
    "dat_pess = dat.loc[dat.sep_phot/dat.dist > 3 * dat.sigma_al]"
   ]
  },
  {
   "cell_type": "code",
   "execution_count": null,
   "id": "8d118350-14e6-4a8e-ba96-98104c6ca2fd",
   "metadata": {},
   "outputs": [],
   "source": [
    "plt.scatter(dat_opt.porb, (dat_opt.sep_phot/dat_opt.dist)/dat_opt.sigma_al, label='optimistic: {}'.format(len(dat_opt)), s=40)\n",
    "plt.scatter(dat_pess.porb, (dat_pess.sep_phot/dat_pess.dist)/dat_pess.sigma_al, label='pessimistic: {}'.format(len(dat_pess)), s=15)\n",
    "plt.plot(np.linspace(10, 50000, 100), 20000/np.linspace(10, 50000, 100), c='black', label='Gaia DR3 cut')\n",
    "plt.xscale('log')\n",
    "plt.yscale('log')\n",
    "plt.xlabel('orbital period [day]')\n",
    "plt.ylabel(r'$\\omega/\\sigma_{\\omega}$')\n",
    "plt.legend()\n",
    "plt.tight_layout()\n",
    "plt.savefig('DR3_cut_dense.png', facecolor='white', dpi=100)"
   ]
  },
  {
   "cell_type": "code",
   "execution_count": null,
   "id": "c65737b5-2f07-42e9-8d2c-1302a33f51e9",
   "metadata": {},
   "outputs": [],
   "source": [
    "plt.scatter(dat.mass_1, dat.mass_2)\n",
    "plt.scatter(9.8, 0.93, c='orange', zorder=1)\n",
    "plt.xlabel('BH mass [Msun]')\n",
    "plt.ylabel('star mass [Msun]')\n",
    "plt.xscale('log')\n",
    "plt.yscale('log')"
   ]
  },
  {
   "cell_type": "code",
   "execution_count": null,
   "id": "6bb68f20-fbcd-4fb3-895c-77103352a30c",
   "metadata": {},
   "outputs": [],
   "source": [
    "plt.scatter(dat_opt.mass_1, dat_opt.ecc)\n",
    "plt.scatter(9.8, 0.45, c='orange')\n",
    "plt.xlabel('BH mass [Msun]')\n",
    "plt.ylabel('eccentricity')\n",
    "plt.xscale('log')\n",
    "plt.yscale('log')"
   ]
  },
  {
   "cell_type": "code",
   "execution_count": null,
   "id": "f677ea0f-a88c-4188-8b63-e5fbb60746fe",
   "metadata": {},
   "outputs": [],
   "source": [
    "plt.scatter(dat_opt.porb, dat_opt.ecc)\n",
    "plt.scatter(185, 0.45, c='orange')\n",
    "plt.xlabel('orbital period [day]')\n",
    "plt.ylabel('eccentricity')\n",
    "plt.xscale('log')\n",
    "plt.yscale('log')"
   ]
  },
  {
   "cell_type": "code",
   "execution_count": null,
   "id": "159c622e-34cd-443e-87ce-43ed75f1df7f",
   "metadata": {},
   "outputs": [],
   "source": []
  }
 ],
 "metadata": {
  "kernelspec": {
   "display_name": "Python 3 (ipykernel)",
   "language": "python",
   "name": "python3"
  },
  "language_info": {
   "codemirror_mode": {
    "name": "ipython",
    "version": 3
   },
   "file_extension": ".py",
   "mimetype": "text/x-python",
   "name": "python",
   "nbconvert_exporter": "python",
   "pygments_lexer": "ipython3",
   "version": "3.10.4"
  }
 },
 "nbformat": 4,
 "nbformat_minor": 5
}
